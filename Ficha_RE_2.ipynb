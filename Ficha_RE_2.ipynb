{
  "cells": [
    {
      "cell_type": "markdown",
      "metadata": {
        "id": "oVaAea-wCM6H"
      },
      "source": [
        "# Ficha de Expressões Regulares 2"
      ]
    },
    {
      "cell_type": "markdown",
      "metadata": {
        "id": "gk5jnHXt9t4y"
      },
      "source": [
        "### Conceitos mais avançados de expressões regulares\n",
        "\n",
        "- `.` - corresponde a uma ocorrência de qualquer caracter (exceto '\\n', geralmente).\n",
        "- `\\w` - corresponde a um caracter alfanumérico (a-z, A-Z, 0-9 ou _).\n",
        "- `\\W` - corresponde a um caracter **não** alfanumérico.\n",
        "- `\\s` - corresponde a um caracter de *whitespace* (' ', '\\t', ou '\\n', por exemplo).\n",
        "- `\\S` - corresponde a um caracter que não seja *whitespace*.\n",
        "- `\\d` - corresponde a um dígito.\n",
        "- `\\D` - corresponde a um caracter que não seja um dígito.\n",
        "- `\\btot\\w+` - corresponde a uma palavra **começada** por \"tot\" (o token `\\b` representa uma *word boundary*, ou seja, o limite entre um caracter alfanumérico e outro não alfanumérico). Por outras palavras, captura a palavra \"totalidade\" mas não a palavra \"batota\". O token `\\b` também pode ser usado no fim de palavras.\n",
        "- `a(?=b)` - corresponde a um caracter `a` que tenha à sua frente um caracter `b`, mas não captura o caracter `b`. (*positive lookahead*)\n",
        "- `a(?!b)` - corresponde a um caracter `a` que **não** tenha à sua frente um caracter `b`, mas não captura o caracter seguinte. (*negative lookahead*)\n",
        "- `a(?<=b)` - corresponde a um caracter `a` que tenha atrás de si um caracter `b`, mas não captura o caracter `b`. (*positive lookbehind*)\n",
        "- `a(?<!b)` - corresponde a um caracter `a` que **não** tenha atrás de si um caracter `b`, mas não captura o caracter anterior. (*negative lookbehind*)\n"
      ]
    },
    {
      "cell_type": "markdown",
      "metadata": {
        "id": "lTaHmSRMMmvI"
      },
      "source": [
        "Podemos usar *grupos de captura* em expressões regulares para isolar segmentos da string capturada. Usamos parênteses para definir grupos de captura."
      ]
    },
    {
      "cell_type": "code",
      "execution_count": 1,
      "metadata": {
        "colab": {
          "base_uri": "https://localhost:8080/"
        },
        "id": "1Aig805EMion",
        "outputId": "9178ca8e-7ac0-4633-9358-78bf73b2ea1e"
      },
      "outputs": [
        {
          "name": "stdout",
          "output_type": "stream",
          "text": [
            "('13', '49')\n",
            "13:49\n",
            "13\n"
          ]
        }
      ],
      "source": [
        "import re\n",
        "m = re.search(r'(2[0-3]|[0-1][0-9]):([0-5][0-9])', \"13:49\")\n",
        "\n",
        "print(m.groups()) # conjunto dos grupos de captura\n",
        "print(m.group(0)) # toda a string capturada\n",
        "print(m.group(1)) # o primeiro grupo de captura"
      ]
    },
    {
      "cell_type": "markdown",
      "metadata": {
        "id": "WxIEoiMdNPkq"
      },
      "source": [
        "O módulo re possui ainda *flags* que podemos usar nas suas funções. As mais úteis são:\n",
        "\n",
        "- `re.I` ou `re.IGNORECASE`: faz uma correspondência *case insensitive*.\n",
        "- `re.M` ou `re.MULTILINE`: os tokens de âncora `^` e `$` passam a corresponder ao início/fim de cada linha, em vez do início/fim de uma string.\n",
        "- `re.S` ou `re.DOTALL`: o token `.` passa a corresponder também a um caracter `\\n`.\n",
        "\n",
        "Podemos usar estas flags da seguinte forma: `re.search(r'trans.*mar', \"TRANSF\\nORMAR\", re.I | re.S)`"
      ]
    },
    {
      "cell_type": "markdown",
      "metadata": {
        "id": "0z3asvbtZijn"
      },
      "source": [
        "## Exercício 1 - Conversão de datas\n",
        "\n",
        "Define a função `iso_8601` que converte as datas presentes numa string no formato DD/MM/AAAA para o formato ISO 8601 - AAAA-MM-DD, usando expressões regulares e grupos de captura."
      ]
    },
    {
      "cell_type": "code",
      "execution_count": 2,
      "metadata": {
        "id": "VZXeGvw7aLIG"
      },
      "outputs": [
        {
          "data": {
            "text/plain": [
              "'2022-01-03'"
            ]
          },
          "execution_count": 2,
          "metadata": {},
          "output_type": "execute_result"
        }
      ],
      "source": [
        "texto = \"\"\"A 03/01/2022, Pedro viajou para a praia com a sua família.\n",
        "Eles ficaram hospedados num hotel e aproveitaram o sol e o mar durante toda a semana.\n",
        "Mais tarde, no dia 12/01/2022, Pedro voltou para casa e começou a trabalhar num novo projeto.\n",
        "Ele passou muitas horas no escritório, mas finalmente terminou o projeto a 15/01/2022.\"\"\"\n",
        "\n",
        "import re\n",
        "\n",
        "def iso_8601(texto):\n",
        "    data = re.search(r'(\\d{2})/(\\d{2})/(\\d{4})', texto)\n",
        "    data_iso = f\"{data.group(3)}-{data.group(2)}-{data.group(1)}\"\n",
        "    return data_iso\n",
        "\n",
        "iso_8601(texto)"
      ]
    },
    {
      "cell_type": "markdown",
      "metadata": {
        "id": "WscyvBdMY8ic"
      },
      "source": [
        "## Exercício 2 - Validação de ficheiros\n",
        "\n",
        "Escreve um programa que lê uma lista de nomes de ficheiros e determina se cada nome é válido ou não. O nome de um ficheiro deve conter apenas caracteres alfanuméricos, hífens, underscores ou pontos, seguido de uma extensão (e.g., \".txt\", \".png\", etc.)."
      ]
    },
    {
      "cell_type": "code",
      "execution_count": 3,
      "metadata": {
        "id": "uUAouM4MZkF6"
      },
      "outputs": [
        {
          "name": "stdout",
          "output_type": "stream",
          "text": [
            "O nome \"document.txt\" é válido.\n",
            "O nome \"file name.docx\" é inválido.\n",
            "O nome \"image_001.jpg\" é válido.\n",
            "O nome \"script.sh.txt\" é válido.\n",
            "O nome \"test_file.txt\" é válido.\n",
            "O nome \"file_name.\" é inválido.\n",
            "O nome \"my_resume.docx\" é válido.\n",
            "O nome \".hidden-file.txt\" é válido.\n",
            "O nome \"important-file.text file\" é inválido.\n",
            "O nome \"file%name.jpg\" é inválido.\n"
          ]
        }
      ],
      "source": [
        "file_names = [\n",
        "  \"document.txt\", # válido\n",
        "  \"file name.docx\", # inválido\n",
        "  \"image_001.jpg\", # válido\n",
        "  \"script.sh.txt\", # válido\n",
        "  \"test_file.txt\", # válido\n",
        "  \"file_name.\", # inválido\n",
        "  \"my_resume.docx\", # válido\n",
        "  \".hidden-file.txt\", # válido\n",
        "  \"important-file.text file\", # inválido\n",
        "  \"file%name.jpg\" # inválido\n",
        "]\n",
        "\n",
        "import re\n",
        "\n",
        "def validation(file_names):\n",
        "    if re.match(r'^[\\w\\-.]+\\.([a-zA-Z]{2,5})$', file_names):\n",
        "        return True\n",
        "    else:\n",
        "        return False\n",
        "\n",
        "for file_name in file_names:\n",
        "    if validation(file_name):\n",
        "        print(f'O nome \"{file_name}\" é válido.')\n",
        "    else:\n",
        "        print(f'O nome \"{file_name}\" é inválido.')\n"
      ]
    },
    {
      "cell_type": "markdown",
      "metadata": {
        "id": "keqnY2BFZkvR"
      },
      "source": [
        "### Alínea 2.1\n",
        "\n",
        "Modifica o programa anterior para colocar os nomes de ficheiro válidos num dicionário, no qual as chaves deverão ser as extensões dos mesmos. Por outras palavras, agrupa os ficheiros por extensão."
      ]
    },
    {
      "cell_type": "code",
      "execution_count": 4,
      "metadata": {
        "id": "zdJMjdJsZ6FZ"
      },
      "outputs": [
        {
          "name": "stdout",
          "output_type": "stream",
          "text": [
            "O nome \"document.txt\" é válido.\n",
            "O nome \"file name.docx\" é inválido.\n",
            "O nome \"image_001.jpg\" é válido.\n",
            "O nome \"script.sh.txt\" é válido.\n",
            "O nome \"test_file.txt\" é válido.\n",
            "O nome \"file_name.\" é inválido.\n",
            "O nome \"my_resume.docx\" é válido.\n",
            "O nome \".hidden-file.txt\" é válido.\n",
            "O nome \"important-file.text file\" é inválido.\n",
            "O nome \"file%name.jpg\" é inválido.\n",
            "{'txt': ['document.txt', 'test_file.txt'], 'jpg': ['image_001.jpg'], 'docx': ['my_resume.docx']}\n"
          ]
        }
      ],
      "source": [
        "file_names = [\n",
        "  \"document.txt\", # válido\n",
        "  \"file name.docx\", # inválido\n",
        "  \"image_001.jpg\", # válido\n",
        "  \"script.sh.txt\", # válido\n",
        "  \"test_file.txt\", # válido\n",
        "  \"file_name.\", # inválido\n",
        "  \"my_resume.docx\", # válido\n",
        "  \".hidden-file.txt\", # válido\n",
        "  \"important-file.text file\", # inválido\n",
        "  \"file%name.jpg\" # inválido\n",
        "]\n",
        "\n",
        "import re\n",
        "\n",
        "def validation(file_names):\n",
        "    if re.match(r\"^[\\w\\-.]+\\.([a-zA-Z]{2,5})$\", file_names):\n",
        "        return True\n",
        "    else:\n",
        "        return False\n",
        "\n",
        "validation_files = {}\n",
        "for file_name in file_names:\n",
        "    if validation(file_name):\n",
        "        print(f'O nome \"{file_name}\" é válido.')\n",
        "        if re.match(\"^[A-Za-z0-9_-]+\\.[A-Za-z0-9]+$\", file_name):\n",
        "            extension = file_name.split(\".\")[-1]\n",
        "            if extension not in validation_files:\n",
        "                validation_files[extension] = []\n",
        "            validation_files[extension].append(file_name)\n",
        "    else:\n",
        "        print(f'O nome \"{file_name}\" é inválido.')\n",
        "        \n",
        "        \n",
        "print(validation_files)\n"
      ]
    },
    {
      "cell_type": "markdown",
      "metadata": {
        "id": "a40c7yfabZOZ"
      },
      "source": [
        "## Exercício 3 - Conversão de nomes\n",
        "\n",
        "Escreve um filtro de texto que converte cada nome completo de uma pessoa encontrada num texto fonte, no formato `PrimeiroNome SegundoNome [...] UltimoNome` para o formato `UltimoNome, PrimeiroNome`. Por exemplo, \"Rui Vieira de Castro\" passa a \"Castro, Rui\". Atenção aos conectores \"de\", \"dos\", etc."
      ]
    },
    {
      "cell_type": "code",
      "execution_count": 5,
      "metadata": {
        "id": "aYONUP3BcAdf"
      },
      "outputs": [
        {
          "name": "stdout",
          "output_type": "stream",
          "text": [
            "Este texto foi feito por Rodrigues, Sofia Guilherme dos Santos, com base no texto original de Moura, Pedro Rafael Paiva, com a ajuda\n",
            "dos professores Henriques, Pedro Rangel e José João Antunes Guimarães Almeida, Dias De. Apesar de partilharem o mesmo apelido, a Sofia não é da\n",
            "mesma família do famoso autor José Rodrigues dos Santos.\n"
          ]
        }
      ],
      "source": [
        "import re\n",
        "\n",
        "texto = \"\"\"Este texto foi feito por Sofia Guilherme Rodrigues dos Santos, com base no texto original de Pedro Rafael Paiva Moura, com a ajuda\n",
        "dos professores Pedro Rangel Henriques e José João Antunes Guimarães Dias De Almeida. Apesar de partilharem o mesmo apelido, a Sofia não é da\n",
        "mesma família do famoso autor José Rodrigues dos Santos.\"\"\"\n",
        "\n",
        "# Expressão regular para identificar nomes completos\n",
        "nome_texto = r\"\\b[A-Z][a-z]*\\b(?:\\s+[A-Z][a-z]*)*\\s+[A-Z][a-z]*\\b\"\n",
        "\n",
        "# Função para converter nomes no formato desejado\n",
        "def converter_nome(match):\n",
        "    nome = match.group()\n",
        "    partes = nome.split()\n",
        "    return partes[-1] + ', ' + ' '.join(partes[:-1])\n",
        "\n",
        "# Substituir os nomes no formato desejado no texto\n",
        "texto_convertido = re.sub(nome_texto, converter_nome, texto)\n",
        "\n",
        "print(texto_convertido)\n"
      ]
    },
    {
      "cell_type": "markdown",
      "metadata": {
        "id": "7mMTNkFUm7lV"
      },
      "source": [
        "## Exercício 4 - Códigos postais 2\n",
        "\n",
        "Define uma função `codigos_postais` que recebe uma lista de códigos postais e divide-os com base no hífen. Ao contrário do exercício da ficha anterior, esta função pode receber códigos postais inválidos. A função deve devolver uma lista de pares e apenas processar cada linha uma vez."
      ]
    },
    {
      "cell_type": "code",
      "execution_count": 6,
      "metadata": {
        "id": "rvxXocYpnqlX"
      },
      "outputs": [
        {
          "data": {
            "text/plain": [
              "[('4700', '000'),\n",
              " ('1234', '567'),\n",
              " ('8x41', '5a3'),\n",
              " ('84234', '12'),\n",
              " ('9481', '025')]"
            ]
          },
          "execution_count": 6,
          "metadata": {},
          "output_type": "execute_result"
        }
      ],
      "source": [
        "lista = [\n",
        "    \"4700-000\", # válido\n",
        "    \"9876543\", # inválido\n",
        "    \"1234-567\", # válido\n",
        "    \"8x41-5a3\", # inválido\n",
        "    \"84234-12\", # inválido\n",
        "    \"4583--321\", # inválido\n",
        "    \"9481-025\" # válido\n",
        "]\n",
        "\n",
        "def codigos_postais(lista):\n",
        "    codigos_divididos = []\n",
        "    for codigo_postal in lista:\n",
        "        divisao_codigo = codigo_postal.split(\"-\")\n",
        "        if len(divisao_codigo) == 2:\n",
        "            codigos_divididos.append((divisao_codigo[0], divisao_codigo[1]))\n",
        "    return codigos_divididos\n",
        "\n",
        "codigos_postais(lista)"
      ]
    },
    {
      "cell_type": "markdown",
      "metadata": {
        "id": "m2rtSDSccn33"
      },
      "source": [
        "## Exercício 5 - Expansão de abreviaturas\n",
        "\n",
        "Escreve um filtro de texto que expanda as abreviaturas que encontrar no texto fonte no formato \"/abrev\"."
      ]
    },
    {
      "cell_type": "code",
      "execution_count": 7,
      "metadata": {
        "id": "Hm60iNFV52oX"
      },
      "outputs": [
        {
          "data": {
            "text/plain": [
              "'A Unidade Curricular de Processamento de Linguagens é muito fixe! É uma Unidade Curricular que acrescenta muito ao curso de Licenciatura em Engenharia Informática da Universidade do Minho.'"
            ]
          },
          "execution_count": 7,
          "metadata": {},
          "output_type": "execute_result"
        }
      ],
      "source": [
        "abreviaturas = {\n",
        "    \"UM\": \"Universidade do Minho\",\n",
        "    \"LEI\": \"Licenciatura em Engenharia Informática\",\n",
        "    \"UC\": \"Unidade Curricular\",\n",
        "    \"PL\": \"Processamento de Linguagens\"\n",
        "}\n",
        "\n",
        "texto = \"A /abrev{UC} de /abrev{PL} é muito fixe! É uma /abrev{UC} que acrescenta muito ao curso de /abrev{LEI} da /abrev{UM}.\"\n",
        "\n",
        "def expandir_abreviaturas(texto):\n",
        "    for abrev, expandido in abreviaturas.items():\n",
        "        texto = texto.replace(f\"/abrev{{{abrev}}}\", expandido)\n",
        "    return texto\n",
        "\n",
        "expandir_abreviaturas(texto)"
      ]
    },
    {
      "cell_type": "markdown",
      "metadata": {
        "id": "oEiMpi4FDkqm"
      },
      "source": [
        "## Exercício 6 - Matrículas\n",
        "\n",
        "Define uma função `matricula_valida` que recebe uma string de texto e determina se esta contém uma matrícula válida. Uma matrícula segue o formato AA-BB-CC, no qual dois dos três conjuntos devem ser compostos por números e o terceiro por letras maiúsculas (por exemplo, 01-AB-23), ou o novo formato no qual dois dos conjuntos são compostos por letras maiúsculas e o terceiro por números (por exemplo, 89-WX-YZ). Os conjuntos podem ser separados por um hífen ou um espaço.\n",
        "\n",
        "Extra: Garante que o mesmo separador é usado para separar os três conjuntos."
      ]
    },
    {
      "cell_type": "code",
      "execution_count": 8,
      "metadata": {
        "id": "CPR0gi10E5Dj"
      },
      "outputs": [
        {
          "name": "stdout",
          "output_type": "stream",
          "text": [
            "A matrícula \"AA-AA-AA\" é inválida.\n",
            "A matrícula \"LR-RB-32\" é válida.\n",
            "A matrícula \"1234LX\" é inválida.\n",
            "A matrícula \"PL 22 23\" é válida.\n",
            "A matrícula \"ZZ-99-ZZ\" é válida.\n",
            "A matrícula \"54-tb-34\" é inválida.\n",
            "A matrícula \"12 34 56\" é inválida.\n",
            "A matrícula \"42-HA BQ\" é inválida.\n"
          ]
        }
      ],
      "source": [
        "matriculas = [\n",
        "    \"AA-AA-AA\", # inválida\n",
        "    \"LR-RB-32\", # válida\n",
        "    \"1234LX\", # inválida\n",
        "    \"PL 22 23\", # válida\n",
        "    \"ZZ-99-ZZ\", # válida\n",
        "    \"54-tb-34\", # inválida\n",
        "    \"12 34 56\", # inválida\n",
        "    \"42-HA BQ\" # válida, mas inválida com o requisito extra\n",
        "]\n",
        "\n",
        "import re\n",
        "\n",
        "def matricula_valida(matriculas):\n",
        "    if re.match(r\"[0-9][0-9]-{1}[A-Z][A-Z]-{1}[A-Z][A-Z]\", matriculas) or re.match(r\"[0-9][0-9]\\s{1}[A-Z][A-Z]\\s{1}[A-Z][A-Z]\", matriculas):\n",
        "        return True\n",
        "    elif re.match(r\"[A-Z][A-Z]-{1}[0-9][0-9]-{1}[A-Z][A-Z]\", matriculas) or re.match(r\"[A-Z][A-Z]\\s{1}[0-9][0-9]\\s{1}[A-Z][A-Z]\", matriculas):\n",
        "        return True\n",
        "    elif re.match(r\"[A-Z][A-Z]-{1}[A-Z][A-Z]-{1}[0-9][0-9]\", matriculas) or re.match(r\"[A-Z][A-Z]\\s{1}[A-Z][A-Z]\\s{1}[0-9][0-9]\", matriculas):\n",
        "        return True\n",
        "    elif re.match(r\"[0-9][0-9]-{1}[A-Z][A-Z]-{1}[0-9][0-9]\", matriculas) or re.match(r\"[0-9][0-9]\\s{1}[A-Z][A-Z]\\s{1}[0-9][0-9]\", matriculas):\n",
        "        return True\n",
        "    elif re.match(r\"[0-9][0-9]-{1}[0-9][0-9]-{1}[A-Z][A-Z]\", matriculas) or re.match(r\"[0-9][0-9]\\s{1}[0-9][0-9]\\s{1}[A-Z][A-Z]\", matriculas):\n",
        "        return True\n",
        "    elif re.match(r\"[A-Z][A-Z]-{1}[0-9][0-9]-{1}[0-9][0-9]\", matriculas) or re.match(r\"[A-Z][A-Z]\\s{1}[0-9][0-9]\\s{1}[0-9][0-9]\", matriculas):\n",
        "        return True\n",
        "    else:\n",
        "        return False\n",
        "    \n",
        "for matricula in matriculas:\n",
        "    if matricula_valida(matricula):\n",
        "        print(f'A matrícula \"{matricula}\" é válida.')\n",
        "    else:\n",
        "        print(f'A matrícula \"{matricula}\" é inválida.')\n"
      ]
    },
    {
      "cell_type": "markdown",
      "metadata": {
        "id": "-_NVZEbp8xM-"
      },
      "source": [
        "## Exercício 7 - *Mad Libs*\n",
        "\n",
        "O jogo *Mad Libs*, bastante comum em países como os Estados Unidos, consiste em pegar num texto com espaços para algumas palavras e preencher esses espaços de acordo com o tipo de palavra que é pedida.\n",
        "\n",
        "Escreve um programa que lê um texto no formato *Mad Libs* e pede ao utilizador para fornecer palavras que completem corretamente o texto."
      ]
    },
    {
      "cell_type": "code",
      "execution_count": 9,
      "metadata": {
        "id": "VGX0mrL29Vgv"
      },
      "outputs": [
        {
          "name": "stdout",
          "output_type": "stream",
          "text": [
            "Num lindo dia de a, a foi passear com o seu a. \n",
            "Quando chegaram à a, encontraram um a muito a.\n",
            "Ficaram muito confusos, pois não conseguiam identificar a função daquilo.\n",
            "Seria para a? Tentaram perguntar a a, que também não sabia.\n",
            "Desanimados, pegaram no objeto e deixaram-no no a mais próximo. \n",
            "Talvez os a de lá conseguissem encontrar alguma utilidade para aquilo.\n"
          ]
        }
      ],
      "source": [
        "texto = \"\"\"Num lindo dia de [ESTAÇÃO DO ANO], [NOME DE PESSOA] foi passear com o seu [EXPRESSÃO DE PARENTESCO MASCULINA]. \n",
        "Quando chegaram à [NOME DE LOCAL FEMININO], encontraram um [OBJETO MASCULINO] muito [ADJETIVO MASCULINO].\n",
        "Ficaram muito confusos, pois não conseguiam identificar a função daquilo.\n",
        "Seria para [VERBO INFINITIVO]? Tentaram perguntar a [NOME DE PESSOA FAMOSA], que também não sabia.\n",
        "Desanimados, pegaram no objeto e deixaram-no no [NOME DE LOCAL MASCULINO] mais próximo. \n",
        "Talvez os [NOME PLURAL MASCULINO] de lá conseguissem encontrar alguma utilidade para aquilo.\"\"\"\n",
        "    \n",
        "import re\n",
        "\n",
        "palavras_chave = re.findall(r\"\\[(.*?)\\]\", texto)\n",
        "expressoes = []\n",
        "for palavra in palavras_chave:\n",
        "    expressao = input(f\"{palavra}: \")\n",
        "    expressoes.append(expressao)\n",
        "\n",
        "texto_reescrito = texto\n",
        "for i in range(len(palavras_chave)):\n",
        "    texto_reescrito = texto_reescrito.replace(f\"[{palavras_chave[i]}]\", expressoes[i])\n",
        "\n",
        "print(texto_reescrito)"
      ]
    },
    {
      "cell_type": "markdown",
      "metadata": {
        "id": "z8HMWeua6Zc2"
      },
      "source": [
        "## Exercício 8 - Remoção de repetidos\n",
        "\n",
        "Escreve um filtro de texto que sempre que encontrar no texto fonte uma palavra repetida elimina as repetições, ou seja, substitui a lista de palavras por 1 só palavra."
      ]
    },
    {
      "cell_type": "code",
      "execution_count": 10,
      "metadata": {
        "id": "YZxTwl0C6v2b"
      },
      "outputs": [
        {
          "name": "stdout",
          "output_type": "stream",
          "text": [
            "O Luis comeu a sopa de cenoura e da avó do\n"
          ]
        }
      ],
      "source": [
        "texto = \"O Luis comeu a sopa de cenoura e de cenoura da avó do Luis\"\n",
        "\n",
        "def elimina_repeticoes(texto):\n",
        "    palavras = texto.split()\n",
        "    palavras_sem_repeticao = []\n",
        "    for palavra in palavras:\n",
        "        if palavra not in palavras_sem_repeticao:\n",
        "            palavras_sem_repeticao.append(palavra)\n",
        "    return \" \".join(palavras_sem_repeticao)\n",
        "\n",
        "print(elimina_repeticoes(texto))"
      ]
    }
  ],
  "metadata": {
    "colab": {
      "provenance": [],
      "toc_visible": true
    },
    "kernelspec": {
      "display_name": "Python 3",
      "language": "python",
      "name": "python3"
    },
    "language_info": {
      "codemirror_mode": {
        "name": "ipython",
        "version": 3
      },
      "file_extension": ".py",
      "mimetype": "text/x-python",
      "name": "python",
      "nbconvert_exporter": "python",
      "pygments_lexer": "ipython3",
      "version": "3.9.13"
    },
    "vscode": {
      "interpreter": {
        "hash": "aee8b7b246df8f9039afb4144a1f6fd8d2ca17a180786b69acc140d282b71a49"
      }
    }
  },
  "nbformat": 4,
  "nbformat_minor": 0
}
